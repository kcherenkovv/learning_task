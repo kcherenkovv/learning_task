{
 "cells": [
  {
   "cell_type": "markdown",
   "metadata": {},
   "source": [
    "# Импорт необходимых библиотек"
   ]
  },
  {
   "cell_type": "code",
   "execution_count": 4,
   "metadata": {},
   "outputs": [],
   "source": [
    "import wget\n",
    "import pandas as pd\n",
    "import re\n",
    "import string\n",
    "import nltk\n",
    "from nltk import word_tokenize\n",
    "from nltk.probability import FreqDist\n",
    "from nltk.corpus import stopwords\n",
    "from wordcloud import WordCloud\n",
    "from collections import Counter\n",
    "from transformers import GPT2Tokenizer, DataCollatorForLanguageModeling\n",
    "from datasets import Dataset\n",
    "import matplotlib.pyplot as plt\n",
    "import seaborn as sns\n",
    "%matplotlib inline"
   ]
  },
  {
   "cell_type": "markdown",
   "metadata": {},
   "source": [
    "# Исследовательский анализ данных"
   ]
  },
  {
   "cell_type": "markdown",
   "metadata": {},
   "source": [
    "## Загрузка датасета"
   ]
  },
  {
   "cell_type": "code",
   "execution_count": 5,
   "metadata": {},
   "outputs": [],
   "source": [
    "dataset = wget.download('https://github.com/yandex/geo-reviews-dataset-2023/raw/refs/heads/master/geo-reviews-dataset-2023.tskv?download=')"
   ]
  },
  {
   "cell_type": "code",
   "execution_count": 6,
   "metadata": {},
   "outputs": [
    {
     "data": {
      "text/plain": [
       "'geo-reviews-dataset-2023.tskv'"
      ]
     },
     "execution_count": 6,
     "metadata": {},
     "output_type": "execute_result"
    }
   ],
   "source": [
    "dataset"
   ]
  },
  {
   "cell_type": "code",
   "execution_count": 7,
   "metadata": {},
   "outputs": [],
   "source": [
    "# Считаем при помощи pandas исходный файл с табуляцией в качестве разделителя, задав нужные нам имена колонок\n",
    "df = pd.read_csv('geo-reviews-dataset-2023.tskv', sep='\\t', header=None, names=['address', 'name_ru', 'rating', 'rubrics', 'text'])\n",
    "columns = df.columns.to_list()\n",
    "# Пройдем в цикле по колонкам и удалим из ячеек ключи\n",
    "for column in columns:\n",
    "    df[column] = df[column].replace(f'{column}=', '', regex=True)"
   ]
  },
  {
   "cell_type": "code",
   "execution_count": 10,
   "metadata": {},
   "outputs": [
    {
     "data": {
      "text/html": [
       "<div>\n",
       "<style scoped>\n",
       "    .dataframe tbody tr th:only-of-type {\n",
       "        vertical-align: middle;\n",
       "    }\n",
       "\n",
       "    .dataframe tbody tr th {\n",
       "        vertical-align: top;\n",
       "    }\n",
       "\n",
       "    .dataframe thead th {\n",
       "        text-align: right;\n",
       "    }\n",
       "</style>\n",
       "<table border=\"1\" class=\"dataframe\">\n",
       "  <thead>\n",
       "    <tr style=\"text-align: right;\">\n",
       "      <th></th>\n",
       "      <th>address</th>\n",
       "      <th>name_ru</th>\n",
       "      <th>rating</th>\n",
       "      <th>rubrics</th>\n",
       "      <th>text</th>\n",
       "    </tr>\n",
       "  </thead>\n",
       "  <tbody>\n",
       "    <tr>\n",
       "      <th>0</th>\n",
       "      <td>Екатеринбург, ул. Московская / ул. Волгоградск...</td>\n",
       "      <td>Московский квартал</td>\n",
       "      <td>3.</td>\n",
       "      <td>Жилой комплекс</td>\n",
       "      <td>Московский квартал 2.\\nШумно : летом по ночам ...</td>\n",
       "    </tr>\n",
       "    <tr>\n",
       "      <th>1</th>\n",
       "      <td>Московская область, Электросталь, проспект Лен...</td>\n",
       "      <td>Продукты Ермолино</td>\n",
       "      <td>5.</td>\n",
       "      <td>Магазин продуктов;Продукты глубокой заморозки;...</td>\n",
       "      <td>Замечательная сеть магазинов в общем, хороший ...</td>\n",
       "    </tr>\n",
       "    <tr>\n",
       "      <th>2</th>\n",
       "      <td>Краснодар, Прикубанский внутригородской округ,...</td>\n",
       "      <td>LimeFit</td>\n",
       "      <td>1.</td>\n",
       "      <td>Фитнес-клуб</td>\n",
       "      <td>Не знаю смутят ли кого-то данные правила, но я...</td>\n",
       "    </tr>\n",
       "    <tr>\n",
       "      <th>3</th>\n",
       "      <td>Санкт-Петербург, проспект Энгельса, 111, корп. 1</td>\n",
       "      <td>Snow-Express</td>\n",
       "      <td>4.</td>\n",
       "      <td>Пункт проката;Прокат велосипедов;Сапсёрфинг</td>\n",
       "      <td>Хорошие условия аренды. \\nДружелюбный персонал...</td>\n",
       "    </tr>\n",
       "    <tr>\n",
       "      <th>4</th>\n",
       "      <td>Тверь, Волоколамский проспект, 39</td>\n",
       "      <td>Студия Beauty Brow</td>\n",
       "      <td>5.</td>\n",
       "      <td>Салон красоты;Визажисты, стилисты;Салон бровей...</td>\n",
       "      <td>Топ мастер Ангелина топ во всех смыслах ) Немн...</td>\n",
       "    </tr>\n",
       "  </tbody>\n",
       "</table>\n",
       "</div>"
      ],
      "text/plain": [
       "                                             address             name_ru  \\\n",
       "0  Екатеринбург, ул. Московская / ул. Волгоградск...  Московский квартал   \n",
       "1  Московская область, Электросталь, проспект Лен...   Продукты Ермолино   \n",
       "2  Краснодар, Прикубанский внутригородской округ,...             LimeFit   \n",
       "3   Санкт-Петербург, проспект Энгельса, 111, корп. 1        Snow-Express   \n",
       "4                  Тверь, Волоколамский проспект, 39  Студия Beauty Brow   \n",
       "\n",
       "  rating                                            rubrics  \\\n",
       "0     3.                                     Жилой комплекс   \n",
       "1     5.  Магазин продуктов;Продукты глубокой заморозки;...   \n",
       "2     1.                                        Фитнес-клуб   \n",
       "3     4.        Пункт проката;Прокат велосипедов;Сапсёрфинг   \n",
       "4     5.  Салон красоты;Визажисты, стилисты;Салон бровей...   \n",
       "\n",
       "                                                text  \n",
       "0  Московский квартал 2.\\nШумно : летом по ночам ...  \n",
       "1  Замечательная сеть магазинов в общем, хороший ...  \n",
       "2  Не знаю смутят ли кого-то данные правила, но я...  \n",
       "3  Хорошие условия аренды. \\nДружелюбный персонал...  \n",
       "4  Топ мастер Ангелина топ во всех смыслах ) Немн...  "
      ]
     },
     "execution_count": 10,
     "metadata": {},
     "output_type": "execute_result"
    }
   ],
   "source": [
    "# Посмотрим на результат\n",
    "df.head(5)"
   ]
  },
  {
   "cell_type": "code",
   "execution_count": 12,
   "metadata": {},
   "outputs": [
    {
     "data": {
      "text/plain": [
       "(500000, 5)"
      ]
     },
     "execution_count": 12,
     "metadata": {},
     "output_type": "execute_result"
    }
   ],
   "source": [
    "# Размер дата фрейма\n",
    "df.shape"
   ]
  },
  {
   "cell_type": "code",
   "execution_count": 13,
   "metadata": {},
   "outputs": [
    {
     "data": {
      "text/plain": [
       "address    object\n",
       "name_ru    object\n",
       "rating     object\n",
       "rubrics    object\n",
       "text       object\n",
       "dtype: object"
      ]
     },
     "execution_count": 13,
     "metadata": {},
     "output_type": "execute_result"
    }
   ],
   "source": [
    "df.dtypes"
   ]
  },
  {
   "cell_type": "code",
   "execution_count": 15,
   "metadata": {},
   "outputs": [
    {
     "data": {
      "text/plain": [
       "address    191925\n",
       "name_ru    148461\n",
       "rating        393\n",
       "rubrics     32694\n",
       "text       498918\n",
       "dtype: int64"
      ]
     },
     "execution_count": 15,
     "metadata": {},
     "output_type": "execute_result"
    }
   ],
   "source": [
    "# Количество уникальных значений\n",
    "df.nunique()"
   ]
  },
  {
   "cell_type": "code",
   "execution_count": 16,
   "metadata": {},
   "outputs": [
    {
     "name": "stdout",
     "output_type": "stream",
     "text": [
      "<class 'pandas.core.frame.DataFrame'>\n",
      "RangeIndex: 500000 entries, 0 to 499999\n",
      "Data columns (total 5 columns):\n",
      " #   Column   Non-Null Count   Dtype \n",
      "---  ------   --------------   ----- \n",
      " 0   address  500000 non-null  object\n",
      " 1   name_ru  500000 non-null  object\n",
      " 2   rating   500000 non-null  object\n",
      " 3   rubrics  500000 non-null  object\n",
      " 4   text     499030 non-null  object\n",
      "dtypes: object(5)\n",
      "memory usage: 19.1+ MB\n"
     ]
    }
   ],
   "source": [
    "df.info()"
   ]
  },
  {
   "cell_type": "markdown",
   "metadata": {},
   "source": [
    "Видим, что в нашей ДатаФрейме есть пропущенные значение в колонке \"text\". Удалим их"
   ]
  },
  {
   "cell_type": "code",
   "execution_count": 17,
   "metadata": {},
   "outputs": [],
   "source": [
    "df = df.dropna(ignore_index=True)"
   ]
  },
  {
   "cell_type": "code",
   "execution_count": 34,
   "metadata": {},
   "outputs": [
    {
     "data": {
      "text/plain": [
       "np.int64(1)"
      ]
     },
     "execution_count": 34,
     "metadata": {},
     "output_type": "execute_result"
    }
   ],
   "source": [
    "num_duplicates = df.duplicated().sum()\n",
    "num_duplicates"
   ]
  },
  {
   "cell_type": "markdown",
   "metadata": {},
   "source": [
    "Выведем на экран"
   ]
  },
  {
   "cell_type": "code",
   "execution_count": 35,
   "metadata": {},
   "outputs": [
    {
     "data": {
      "text/html": [
       "<div>\n",
       "<style scoped>\n",
       "    .dataframe tbody tr th:only-of-type {\n",
       "        vertical-align: middle;\n",
       "    }\n",
       "\n",
       "    .dataframe tbody tr th {\n",
       "        vertical-align: top;\n",
       "    }\n",
       "\n",
       "    .dataframe thead th {\n",
       "        text-align: right;\n",
       "    }\n",
       "</style>\n",
       "<table border=\"1\" class=\"dataframe\">\n",
       "  <thead>\n",
       "    <tr style=\"text-align: right;\">\n",
       "      <th></th>\n",
       "      <th>address</th>\n",
       "      <th>name_ru</th>\n",
       "      <th>rating</th>\n",
       "      <th>rubrics</th>\n",
       "      <th>text</th>\n",
       "    </tr>\n",
       "  </thead>\n",
       "  <tbody>\n",
       "    <tr>\n",
       "      <th>123882</th>\n",
       "      <td>Красноярск, Ястынская улица, 14</td>\n",
       "      <td>Спарта Маркет</td>\n",
       "      <td>5.</td>\n",
       "      <td>Автоакустика;Тонирование автостёкол;Плёнки арх...</td>\n",
       "      <td>Хорошие консультанты, вежливые.\\nВсе помогли ,...</td>\n",
       "    </tr>\n",
       "    <tr>\n",
       "      <th>123884</th>\n",
       "      <td>Красноярск, Ястынская улица, 14</td>\n",
       "      <td>Спарта Маркет</td>\n",
       "      <td>5.</td>\n",
       "      <td>Автоакустика;Тонирование автостёкол;Плёнки арх...</td>\n",
       "      <td>Хорошие консультанты, вежливые.\\nВсе помогли ,...</td>\n",
       "    </tr>\n",
       "  </tbody>\n",
       "</table>\n",
       "</div>"
      ],
      "text/plain": [
       "                                address        name_ru rating  \\\n",
       "123882  Красноярск, Ястынская улица, 14  Спарта Маркет     5.   \n",
       "123884  Красноярск, Ястынская улица, 14  Спарта Маркет     5.   \n",
       "\n",
       "                                                  rubrics  \\\n",
       "123882  Автоакустика;Тонирование автостёкол;Плёнки арх...   \n",
       "123884  Автоакустика;Тонирование автостёкол;Плёнки арх...   \n",
       "\n",
       "                                                     text  \n",
       "123882  Хорошие консультанты, вежливые.\\nВсе помогли ,...  \n",
       "123884  Хорошие консультанты, вежливые.\\nВсе помогли ,...  "
      ]
     },
     "execution_count": 35,
     "metadata": {},
     "output_type": "execute_result"
    }
   ],
   "source": [
    "df.loc[df.duplicated(keep=False), :]"
   ]
  },
  {
   "cell_type": "markdown",
   "metadata": {},
   "source": [
    "Видим, что в колонке 'rating' после цифры идёт точка. Уберём её. Приведём к типу int64"
   ]
  },
  {
   "cell_type": "code",
   "execution_count": null,
   "metadata": {},
   "outputs": [],
   "source": [
    "df['rating'] = df['rating'].replace('\\.', '', regex=True)\n",
    "df['rating'] = pd.to_numeric(df['rating'])"
   ]
  },
  {
   "cell_type": "markdown",
   "metadata": {},
   "source": [
    "Посмотрим на баланс классов в колонке 'rating', построив гистограмму"
   ]
  },
  {
   "cell_type": "code",
   "execution_count": 37,
   "metadata": {},
   "outputs": [
    {
     "data": {
      "text/plain": [
       "<Axes: xlabel='rating', ylabel='Count'>"
      ]
     },
     "execution_count": 37,
     "metadata": {},
     "output_type": "execute_result"
    },
    {
     "data": {
      "image/png": "[encoded data removed]",
      "text/plain": [
       "<Figure size 640x480 with 1 Axes>"
      ]
     },
     "metadata": {},
     "output_type": "display_data"
    }
   ],
   "source": [
    "sns.histplot(df['rating'])"
   ]
  },
  {
   "cell_type": "markdown",
   "metadata": {},
   "source": [
    "Из этого видно, что с рейтингом 5 сильно больше остальных. Причём с рейтингом 0 практически нет.\n",
    "Посмотрим что из себя представляют отзывы с рейтингом 0"
   ]
  },
  {
   "cell_type": "code",
   "execution_count": 38,
   "metadata": {},
   "outputs": [
    {
     "data": {
      "text/html": [
       "<div>\n",
       "<style scoped>\n",
       "    .dataframe tbody tr th:only-of-type {\n",
       "        vertical-align: middle;\n",
       "    }\n",
       "\n",
       "    .dataframe tbody tr th {\n",
       "        vertical-align: top;\n",
       "    }\n",
       "\n",
       "    .dataframe thead th {\n",
       "        text-align: right;\n",
       "    }\n",
       "</style>\n",
       "<table border=\"1\" class=\"dataframe\">\n",
       "  <thead>\n",
       "    <tr style=\"text-align: right;\">\n",
       "      <th></th>\n",
       "      <th>address</th>\n",
       "      <th>name_ru</th>\n",
       "      <th>rating</th>\n",
       "      <th>rubrics</th>\n",
       "      <th>text</th>\n",
       "    </tr>\n",
       "  </thead>\n",
       "  <tbody>\n",
       "    <tr>\n",
       "      <th>1906</th>\n",
       "      <td>Республика Карелия, Суоярви, улица Шельшакова, 1</td>\n",
       "      <td>Гостиница Карелия</td>\n",
       "      <td>0</td>\n",
       "      <td>Гостиница</td>\n",
       "      <td>Гостиница расположенна удобно, если отремонтир...</td>\n",
       "    </tr>\n",
       "    <tr>\n",
       "      <th>2164</th>\n",
       "      <td>Кемерово, улица Тухачевского, 12</td>\n",
       "      <td>Светофор</td>\n",
       "      <td>0</td>\n",
       "      <td>Магазин автозапчастей и автотоваров;Автоаксесс...</td>\n",
       "      <td>Это мой любимый магазин с запчастями. Можно вс...</td>\n",
       "    </tr>\n",
       "    <tr>\n",
       "      <th>3583</th>\n",
       "      <td>Краснодарский край, Анапа, улица Пушкина, 30</td>\n",
       "      <td>Кубань</td>\n",
       "      <td>0</td>\n",
       "      <td>Санаторий</td>\n",
       "      <td>Нет растительного масла для салата, нет зубочи...</td>\n",
       "    </tr>\n",
       "    <tr>\n",
       "      <th>3614</th>\n",
       "      <td>Краснодарский край, Туапсинский район, Новомих...</td>\n",
       "      <td>Счастливый Хотей</td>\n",
       "      <td>0</td>\n",
       "      <td>Гостиница</td>\n",
       "      <td>Все довольны, и взрослые и дети.\\nВкусная еда....</td>\n",
       "    </tr>\n",
       "    <tr>\n",
       "      <th>6384</th>\n",
       "      <td>Ленинградская область, Выборг, улица Мира, 8А</td>\n",
       "      <td>Атриум</td>\n",
       "      <td>0</td>\n",
       "      <td>Торговый центр</td>\n",
       "      <td>Большой выбор, очень грамотно и удобно разложе...</td>\n",
       "    </tr>\n",
       "    <tr>\n",
       "      <th>...</th>\n",
       "      <td>...</td>\n",
       "      <td>...</td>\n",
       "      <td>...</td>\n",
       "      <td>...</td>\n",
       "      <td>...</td>\n",
       "    </tr>\n",
       "    <tr>\n",
       "      <th>481104</th>\n",
       "      <td>посёлок городского типа Сириус, Набережная ули...</td>\n",
       "      <td>Ем и ем</td>\n",
       "      <td>0</td>\n",
       "      <td>Столовая;Быстрое питание;Доставка еды и обедов</td>\n",
       "      <td>Отличная столовая ходим переодически по сравне...</td>\n",
       "    </tr>\n",
       "    <tr>\n",
       "      <th>482537</th>\n",
       "      <td>Кабардино-Балкарская Республика, Нальчик, улиц...</td>\n",
       "      <td>Амбассадор</td>\n",
       "      <td>0</td>\n",
       "      <td>Ресторан;Доставка еды и обедов</td>\n",
       "      <td>На днях посетили с семьёй ресторан Амбассадор....</td>\n",
       "    </tr>\n",
       "    <tr>\n",
       "      <th>485989</th>\n",
       "      <td>Свердловская область, Екатеринбург, улица Цвил...</td>\n",
       "      <td>Рими</td>\n",
       "      <td>0</td>\n",
       "      <td>Мебель для кухни;Мебель на заказ;Гардеробные с...</td>\n",
       "      <td>Кухни европейского качества. Хорошее обслужива...</td>\n",
       "    </tr>\n",
       "    <tr>\n",
       "      <th>494291</th>\n",
       "      <td>Санкт-Петербург, Полтавская улица, 3</td>\n",
       "      <td>Добрый Грузин</td>\n",
       "      <td>0</td>\n",
       "      <td>Ресторан;Доставка еды и обедов;Банкетный зал</td>\n",
       "      <td>Очень вкусно готовят. Мясо шикарное, шашлык, х...</td>\n",
       "    </tr>\n",
       "    <tr>\n",
       "      <th>494577</th>\n",
       "      <td>Санкт-Петербург, Октябрьская наб. / ул. Дыбенк...</td>\n",
       "      <td>Цивилизация</td>\n",
       "      <td>0</td>\n",
       "      <td>Жилой комплекс</td>\n",
       "      <td>Комплекс расположен удачно, отличная транспорт...</td>\n",
       "    </tr>\n",
       "  </tbody>\n",
       "</table>\n",
       "<p>200 rows × 5 columns</p>\n",
       "</div>"
      ],
      "text/plain": [
       "                                                  address            name_ru  \\\n",
       "1906     Республика Карелия, Суоярви, улица Шельшакова, 1  Гостиница Карелия   \n",
       "2164                     Кемерово, улица Тухачевского, 12           Светофор   \n",
       "3583         Краснодарский край, Анапа, улица Пушкина, 30             Кубань   \n",
       "3614    Краснодарский край, Туапсинский район, Новомих...   Счастливый Хотей   \n",
       "6384        Ленинградская область, Выборг, улица Мира, 8А             Атриум   \n",
       "...                                                   ...                ...   \n",
       "481104  посёлок городского типа Сириус, Набережная ули...            Ем и ем   \n",
       "482537  Кабардино-Балкарская Республика, Нальчик, улиц...         Амбассадор   \n",
       "485989  Свердловская область, Екатеринбург, улица Цвил...               Рими   \n",
       "494291               Санкт-Петербург, Полтавская улица, 3      Добрый Грузин   \n",
       "494577  Санкт-Петербург, Октябрьская наб. / ул. Дыбенк...        Цивилизация   \n",
       "\n",
       "        rating                                            rubrics  \\\n",
       "1906         0                                          Гостиница   \n",
       "2164         0  Магазин автозапчастей и автотоваров;Автоаксесс...   \n",
       "3583         0                                          Санаторий   \n",
       "3614         0                                          Гостиница   \n",
       "6384         0                                     Торговый центр   \n",
       "...        ...                                                ...   \n",
       "481104       0     Столовая;Быстрое питание;Доставка еды и обедов   \n",
       "482537       0                     Ресторан;Доставка еды и обедов   \n",
       "485989       0  Мебель для кухни;Мебель на заказ;Гардеробные с...   \n",
       "494291       0       Ресторан;Доставка еды и обедов;Банкетный зал   \n",
       "494577       0                                     Жилой комплекс   \n",
       "\n",
       "                                                     text  \n",
       "1906    Гостиница расположенна удобно, если отремонтир...  \n",
       "2164    Это мой любимый магазин с запчастями. Можно вс...  \n",
       "3583    Нет растительного масла для салата, нет зубочи...  \n",
       "3614    Все довольны, и взрослые и дети.\\nВкусная еда....  \n",
       "6384    Большой выбор, очень грамотно и удобно разложе...  \n",
       "...                                                   ...  \n",
       "481104  Отличная столовая ходим переодически по сравне...  \n",
       "482537  На днях посетили с семьёй ресторан Амбассадор....  \n",
       "485989  Кухни европейского качества. Хорошее обслужива...  \n",
       "494291  Очень вкусно готовят. Мясо шикарное, шашлык, х...  \n",
       "494577  Комплекс расположен удачно, отличная транспорт...  \n",
       "\n",
       "[200 rows x 5 columns]"
      ]
     },
     "execution_count": 38,
     "metadata": {},
     "output_type": "execute_result"
    }
   ],
   "source": [
    "df.query('rating==0')"
   ]
  },
  {
   "cell_type": "markdown",
   "metadata": {},
   "source": [
    "В дальнейшем нам необходимо провести баланс классов. Есть шум в виде отзывов на 0, но сами отзывы по большей части являются положительными, что может сказать на качестве модели"
   ]
  },
  {
   "cell_type": "markdown",
   "metadata": {},
   "source": [
    "Добавим в наш датафрейм колонку, в которой будет указана длина отзыва и проанализируем полученный результат."
   ]
  },
  {
   "cell_type": "code",
   "execution_count": null,
   "metadata": {},
   "outputs": [],
   "source": [
    "df['review_length'] = df['text'].str.len()"
   ]
  },
  {
   "cell_type": "code",
   "execution_count": 43,
   "metadata": {},
   "outputs": [
    {
     "data": {
      "text/plain": [
       "count    499030.000000\n",
       "mean        303.232533\n",
       "std         292.609661\n",
       "min           2.000000\n",
       "25%         145.000000\n",
       "50%         215.000000\n",
       "75%         365.000000\n",
       "max       20162.000000\n",
       "Name: review_length, dtype: float64"
      ]
     },
     "execution_count": 43,
     "metadata": {},
     "output_type": "execute_result"
    }
   ],
   "source": [
    "# Выведем статистические характеристики этой колонки\n",
    "df['review_length'].describe()"
   ]
  },
  {
   "cell_type": "code",
   "execution_count": 48,
   "metadata": {},
   "outputs": [
    {
     "data": {
      "text/plain": [
       "<Axes: xlabel='review_length', ylabel='Count'>"
      ]
     },
     "execution_count": 48,
     "metadata": {},
     "output_type": "execute_result"
    },
    {
     "data": {
      "image/png": "[encoded data removed]",
      "text/plain": [
       "<Figure size 640x480 with 1 Axes>"
      ]
     },
     "metadata": {},
     "output_type": "display_data"
    }
   ],
   "source": [
    "# Построит гистограмму распределения значений в столбце review_length датафрейма df\n",
    "# Она показывает, как часто встречаются различные значения длины отзыва\n",
    "sns.histplot(df['review_length'])"
   ]
  },
  {
   "cell_type": "code",
   "execution_count": 46,
   "metadata": {},
   "outputs": [
    {
     "data": {
      "text/plain": [
       "<Axes: ylabel='review_length'>"
      ]
     },
     "execution_count": 46,
     "metadata": {},
     "output_type": "execute_result"
    },
    {
     "data": {
      "image/png": "[encoded data removed]",
      "text/plain": [
       "<Figure size 640x480 with 1 Axes>"
      ]
     },
     "metadata": {},
     "output_type": "display_data"
    }
   ],
   "source": [
    "sns.boxplot(df['review_length'])"
   ]
  },
  {
   "cell_type": "markdown",
   "metadata": {},
   "source": [
    "Посмотрим на самые длинные и на самые короткие отзывы"
   ]
  },
  {
   "cell_type": "code",
   "execution_count": 52,
   "metadata": {},
   "outputs": [
    {
     "data": {
      "text/plain": [
       "array(['Que si, que no...\\\\nМногажды бывал в этом замечательном отеле, и с каждым разом всё больше и больше эта песня про тупящего влюблённого, являющаяся гимном отеля, всё точнее и точнее описывает качество отдыха. Вообще, этот гимн противоречиям максимально отражает происходящее с Вами на отдыхе в Ялта Интурист.\\\\nНачинается знакомство с особенностями сервиса со службы размещения (это те, кого называют ресепшн). Приветливость сотрудников на стойке регистрации можно выделить отдельно, Вас всегда встретят с улыбкой, всё расскажут и ответят на Ваши вопросы при заселении, но на чемпионате мира по созданию очередей, они без особого труда возьмут второе место (первое – без шансов конкурентам у транспортной безопасности терминала Аэроэкспресс в Шереметьево). Специальный удобный трансфер быстро перемещает десятки гостей из аэропорта и вокзала в очередь на заселение, где на 6 стойках регистрации работают всего один или два сотрудника. Господа, это, же, элементарно: на время прибытия трансферов должны работать все стойки.\\\\nЕсли Вы приехали на своём авто – Вас, возможно, минует необходимость стоять в очереди. При заселении будет предоставлена бесплатная парковка у главного входа на 40 минут, чтобы занести вещи в номер и перепарковать авто на забитую стоянку перед входом на территорию отеля. Пусть вас не обнадёживает вместимость этой парковки (вроде, около 200 мест) – в сезон она всегда забита так, что даже разъехаться на ней проблематично, а нормально встать – mission impossible. Правда, в прошлом году, когда из-за закрытия аэропорта подавляющее большинство отдыхающих приехали на авто, все могли припарковаться на территории гостиницы – поэтому любые мало-мальски пригодные для паркинга участки оказались забиты машинами. Даже газоны. Однажды при выезде с нами произошёл неприятный случай, когда сотрудник охраны сообщил, что машина простояла у главного входа 6 часов и зарядил стоимость парковки 3 000 рублей. Помогло только то, что, просмотрев камеры он увидел, что машина была у крыльца только 5 минут для посадки/высадки и затем была перепаркована на «бесплатный» участок. Мелочь, а неприятно.\\\\nУже после заселения Ваши заботы и хлопоты готовы моментально помочь решить сотрудники консьерж-службы. В дождливый день можно попросить зонт, для прогулок с маленькими детьми – коляску, дополнительную подушку, зубной набор – на любую просьбу Вы услышите ответ: «Будет сделано!»… И, конечно, после этого вселяющего оптимизм ответа… происходит ровным счётом ничего, пока Вы дважды (или даже трижды) не напомните об обещанном. Коляску, например, нам так и не удалось дождаться, хотя каждый день нам обещали, что, хотя бы к вечеру она будет. Могут даже попросить горничных убраться в номере.\\\\nДа, про номера. Номера уютные, с новым ремонтом. Хотя, мебель и сантехника постепенно ветшают, запас года на 2-3 ещё есть. Но это только на отремонтированных этажах. Если посмотреть на отель сбоку, например с бассейна, неотремонтированные этажи отличаются белыми окнами и мебель, и ванная, безусловно, в таких номерах возвращают вас куда-то в середину 90х. Так что, бронируя, ориентируйтесь на слово «улучшенный» в описании номера. Правда, по моим ощущениям, за последние пару лет количество белых окон на фасаде заметно поубавилось. Оснащённость номеров – хорошая, есть всё необходимое для отдыха: чашки-ложки, штопор-открывашка, чайник, ванные принадлежности, полотенца (только не ищите логики в их количестве, там математика не линейная: у нас на 4 гостей их было в разное время от 3х до 7ми). Есть в номерах уютные меблированные балкончики, на которых очень душевно выпить вечерком бокал крымского, если чайки до этого его не посетили (зачем некоторые отдыхающие их подкармливают, чтобы те потом гадили им на балкон – ума не приложу). Да, кстати, горничные за чайками не убирают. Видимо, они из мест, где отношение к гуано священное. А ещё они перестают убирать в вашем номере за 4-5 дней до выезда. Сей факт я фиксировал несколько раз и, поверьте, никакая консьерж-служба на них не повлияет. В моём случае не помогли ни два звонка консьержу, ни два личных туда визита, ни четыре сообщения в приложении на телефоне, и только выставленный в середину коридора вонючий мусорный пакет как немой намёк, в итоге, отозвался в сердце персонала гостиницы и уборку, наконец, провели.\\\\nЕда. Мы пробовали разные форматы: и только завтраки, и предоплаченный полный пансион и разовые проходы за отдельную плату. Шведский стол организован, обычно, в ресторане «Мраморный», но в прошлом году он был закрыт на ремонт, поэтому в роли ресторана выступал бывший конгресс-холл «Хрустальный». Завтраки приветствуют вас игристым вином и по составу поражают разнообразием: выбор большой, блюда обновляются регулярно, вот только безумно вкусных пончиков всегда на всех не хватает – разлетаются за считанные секунды. Правда с каждым годом это буйство выбора редеет. Во время крайнего отдыха из меню завтраков пропали некоторые блюда, которые раньше так нравились. Теперь их можно лицезреть только на видео, на котором довольный шеф-повар рассказывает, насколько меню разнообразно.\\\\nВ один год мы застали настоящее нашествие тараканов в ресторане (некоторые отдыхающие с нижних этажей даже утверждали, что видели их в номерах). В прошлом году, к счастью, они толпами по еде не гуляли, но и, увы, не могу сказать, что их совсем не встречал.\\\\nПро необходимость обедов и ужинов каждый, конечно, решает сам, по опыту могу уверенно сказать, что полный пансион хорош тем, что ужины каждый день тематические по дням недели (дни средиземноморской, восточной, русской кухонь и т.п.), но, если вы отдыхаете более недели – они быстро надоедают. Кроме того, наличие предоплаченного ужина лишает вас выбора, т.к. и рядом с отелем, и в самой Ялте много прекрасных заведений, где можно вкусно поесть. Вкусно, но дорого, к сожалению. Особенно, в прошлом году стало заметно, что цены взлетели в 2-2,5 раза, причём соразмерного качественного прорыва в сервисе не произошло. На территории отеля могу выделить аллею ресторанов, где можно пообедать или поужинать. Они все хороши, но, уж, больно неспешны. В ожидании блюд или счёта приходилось коротать иногда десятки минут. И это не в сезон. На 16м этаже есть одноименный ресторан с шикарным панорманым видом на гору Ай-Петри, но, зачем-то в этом году его отдали полностью под обслуживание люксов (раньше он работал в формате шведского стола только на завтраках), и поужинать там не удалось. Решение, откровенно говоря, неоднозначное. Особенно хотим отметить гастро-паб «Бездна» у лифтов на пляж. Они работают в формате стрит-фуд, но вся еда безумно вкусная. Вечером там же можно насладиться живой музыкой в стиле лаундж. Весьма приятное место. \\\\nЛифт ведёт на набережную отеля, на верхнем уровне небольшие забегаловки в разнообразными местными продуктами и едой. Кушать мы там не пробовали, но недовольных едой я там не видел, а фрукты-овощи там относительно недорогие и вкусные. Большую часть верхней террасы занимает клуб «Небо» (или как-то так), который, к тому же, отхватил себе весь песчаный пляж отеля, который расположен там же, на верхнем уровне и, полагаю, очень неудобен, т.к. чтобы искупаться нужно спускаться на два уровня вниз по лестнице. Помните шутку про баню и раздевалку через дорогу? Не удивлюсь, если она вдохновила автора именно в этом месте. Также этот небесный клуб отхватил все лежаки и бунгало. Если правильно помню, раньше они были или бесплатны, или около того, а теперь – за них ценник конский. То есть крымский. Средний уровень набережной – это разнообразные кафе и рестораны, тоже довольно неплохие: «Мята» (очень вкусные супы), «Синее море» (барабуля – one love), «Селям Алейкум» (чебуреки, ммм…). Было ещё любимое место, ресторан «Крым», но оно, увы, в прошлом году было закрыто на ремонт в дни нашего отдыха. Один минус у этих кафе – браслеты гостей к оплате не принимаются, приходится таскать с собой карты или наличные. На нижнем уровне, собственно, располагается пляж. Широкий, с несколькими зонами, но, по какой-то неведомой причине лежаков там всегда меньше, чем отдыхающих, хотя я, поверьте, бывал там в разное время года и вижу, что в бархатный сезон их заметно меньше, чем желающих искупаться. Зачем их убирают – загадка. Лежать на камнях – то ещё удовольствие, поэтому пляж часам к 10 наполняется грустными опоздавшими людьми, которые ходят между немногочисленными рядами пустых лежаков, на которых лежат чьи-то плавки, полотенце или томик низкосортного детектива.\\\\nВпрочем, зачем купаться и загорать на пляже, когда в отеле есть куча других развлечений?!\\\\nПоражает воображение коллекция животных в зоопарке «Планета обезьян и диких кошек». Без всякого сарказма, можно сказать, что животные ухоженные, персонал о них заботится, место, действительно интересное. Возможно, кто-то не оценит такое соседство, особенно, когда лемуры или гиббоны заводят свои песни на всю Ивановскую в 5 утра, но нам эти звуки не особо мешали. Кстати, тараканы, которые хозяйничали в ресторане, видимо, в прошлом году переместились в клетки сурикатов и носух. Откровенно говоря, зрелище облепленного тараканами вольера – до тошноты отвратительное. С этим срочно нужно что-то делать.\\\\nМногочисленные бассейны и сауны на территории хороши. Опять же, они требуют постоянного обслуживания, но в прошлом году не было такого, как в один из предыдущих визитов, когда скамейка в сауне рядом с олимпийским бассейном просто проломилась под весом мужчины, поднимавшегося на верхний ярус. Олимпийский бассейн хорош, вода там тёплая, приятно купаться даже в прохладную погоду – детей не выгонишь. А если станет холодно – можно закутаться в халат или полотенце, который выдают на нулевом этаже (есть ещё пункт выдачи на верхней терассе набережной) на браслет по количеству проживающих в номере. Раньше за полотенце взимался залог с браслета, теперь, видимо, от этой практики решили отойти (что, на мой взгляд логично). Браслеты и полотенца принято бросать где попало, но, будьте осторожны, пару раз мы их недосчитались. Единственная задачка, которую не удалось разрешить (опять, эта нелинейная крымская математика): почему поясов было существенно меньше, чем халатов? Детский аквапарк тоже эволюционировал, и, хотя, количество аттракционов на нём не увеличилось, а нескользящее покрытие в бассейне местами облезло, в прошлом году, хоть, догадались пускать туда не ледяную воду, и мы впервые провели отдых без ротавируса! Хотя, возможно, это потому, что мы почти не посещали бассейн «Инфинити», где удобно организован круговорот воды в природе в виде бара на воде, когда можно выпить кружечку Шпатена, и затем сразу возвратить её естественным путём в бассейн, как видимо, некоторые отдыхающие и делали… Очень понравился прыжковый бассейн, дети были в восторге, напрыгались до боли в ушах, но зато получили кучу эмоций! Также на территории есть несколько водных горок, но, поскольку за несколько приездов я уже накатал там пару километров, в прошлом году воспринял их без энтузиазма. Остался только осадок от того, что младшего ребенка не пустили на горку, но правила есть правила. Маловат.\\\\nВечерами каждый день на эстраде организовывались вечерние программы с просмотром фильмов и выступлением артистов, и, причём весьма недурного уровня: акробаты, певцы, танцоры, была даже целая команда КВН «Полуостров» со старыми и свежими шутками.\\\\nДетей могут развлечь играми и творчеством в детском центре, для них также периодически организуются различные мероприятия вроде квестов или мастер-классов в течение дня. На территории Green Park есть верёвочный парк, который в прошлом году мы обделили вниманием. Учтите только, что в середине дня туда лучше не лезть – жарко и солнце палит. До Грин Парка можно доехать на электрокаре, который регулярно курсирует по территории отеля. Вообще верхняя часть нами исследована мало, поскольку мы всегда отдыхали в главном корпусе. Но, мне лично, всегда было жаль этих несчастных, которые для того, чтобы спуститься «в цивилизацию», то есть к основной территории отеля, каждый раз были вынуждены отстаивать очередь на кар. И не всегда получалось сесть в первый.\\\\nНа главном этаже есть галерея магазинов с неплохой одеждой (вдруг, что забыли), магазин игрушек, и продуктовый магазин с местами демократичными ценами. В прошлом году был замечен сувенирный магазин с мерчем Yalta Intourist (теперь можно купить понравившийся халат или магнитик на память). Есть фотостудия, салон красоты и туристическое бюро (по мне, так Крым лучше исследовать за своим личным или арендованным рулём). Тех, кому наскучит территория отеля, за умеренную по крымским меркам плату (всё же, дешевле такси), заботливо отвезёт и заберёт шаттл, который ходит регулярно, но до 22:00. После этого времени – или пешком, или в объезд на такси.\\\\nВ целом, всегда в отпуске – хорошо. Даже в отдыхе с крымским сервисом за деньги, сравнимые с турецким 5-тизвёздочным отелем, можно найти что-то хорошее. Хочется верить, что все недостатки – это временно и уровень сервиса подтянется, а номера будут приветствовать новизной и чистотой. Когда-нибудь, достроят тот страшный и пугающий долгострой, от вида которого невозможно скрыться, и который на плане территории отеля уже приветствует виртуальных гостей и количество восторженных отзывов будет отражать позитивные изменения.\\\\nПока единственным не противоречивым преимуществом, которое есть у отеля Ялта Интурист я, пожалуй, отмечу только неповторимый крымский климат и уникальную природу.',\n",
       "       'Отвратительно 👎👎Аквалоо 3* \\\\n4,0\\\\nСанаторийАквалоо 3* \\\\n4,0\\\\nСанаторий\\\\n  \\\\n  \\\\n4 / 5\\\\n11 452 оценки · 4 785 отзывов\\\\n\\\\nDonara G.\\\\nОпубликовано для всех\\\\n\\\\n  31 янв 2023\\\\nОтвратительно 👎👎\\\\nОтзывы\\\\n\\\\nСначала негативные\\\\n\\\\nАнна Жнакина\\\\nЗнаток города 4 уровня\\\\n  20 авг 2022\\\\n... каждый день, но полотенца не меняют, в номере полы моют плохо, нехватка обслуживающего персонала, в день заселения одна девушка убирала целых 2 этажа, не успевала, бедная как загнанная лошадь, даже и претензии... Читать целикомПолотенец не хватает, горки в аквапарке не всегда всё работают, еда хорошая, всегда можно что-то выбрать и наесться, пляж близко, хороший, в санузле убирают каждый день, но полотенца не меняют, в номере полы моют плохо, нехватка обслуживающего персонала, в день заселения одна девушка убирала целых 2 этажа, не успевала, бедная как загнанная лошадь, даже и претензии ей было предъявлять неудобно, отель явно не заботится о своих работниках, что уж говорить о клиентах, мебель в номерах разваливающаяся, стены грязные, нам повезло - сантехника в норме, а а у подруги всё текло. Цена явно не соответствует качеству. Скрыть\\\\n\\\\nЕкатерина Мячева\\\\nЗнаток города 10 уровня\\\\n  17 сен 2022\\\\nХудший отель в моей практике.\\\\nДве звезды за что? Одна - за пляж, он большой, довольно чистый, и море есть море, здесь нет заслуги персонала отеля.\\\\nВторая звезда за аквапарк Лоо. Причем не тот,… Читать целиком\\\\n\\\\nОльга Самойлова\\\\nЗнаток города 5 уровня\\\\n  12 сен 2022\\\\n... конечно, но очень даже интересный и симпатичный.\\\\nДирекции бы посоветовала нанять грамотных управленцев и подтянуть уровень сервиса до мировых стандартов. Читать целикомНе очень вежливый и заинтересованный персонал на ресепшене. Есть ощущение, что гостям там не рады. Первые построенные корпуса нуждаются в реновации. Новые корпуса выглядят хорошо, внутри так же комфортно, чистая и новая мебель. Территория отеля большая и ухоженная. Система \"ультра всё включено\" до 18:00, а потом ультра всё выключено. Это какой-то позор, а не ультра всё включено. Зверские цены в магазине на территории, догоняют Азбуку Вкуса. Питание по принципу шведского стола надоедает на второй день. Надо как-то идти в ногу со временем, ибо это меню устарело ещё лет 50 назад. Невозможно есть одни котлеты постоянно. Гуляет ротавирус. Команда аниматоров понравилась. Живность на территории (кошки и собаки) тоже прелестные. Хороший пляж с шезлогами и зонтиками, хороший аквапарк. Не новый, конечно, но очень даже интересный и симпатичный.\\\\nДирекции бы посоветовала нанять грамотных управленцев и подтянуть уровень сервиса до мировых стандартов. Скрыть\\\\n\\\\nАнна\\\\nЗнаток города 10 уровня\\\\n  22 ноя 2022\\\\nЧистая, ухоженная территория. Повезло с номером во втором корпусе - с видом на море. Уборка ежедневная, но так, слегка. Питание - ну так, не самое страшное, можно выбирать, есть такая… Читать целиком\\\\n\\\\nелена\\\\nЗнаток города 8 уровня\\\\n  21 ноя 2022\\\\n... так вот данному санаторию ставлю твердую 4...отдыхали по социальной путевке в октябре, лечение достойное, много процедур и бесплатных и можно сделать платно по желанию, питание на троечку..как умудряются... Читать целикомвсе познается в сравнении..так вот данному санаторию ставлю твердую 4...отдыхали по социальной путевке в октябре, лечение достойное, много процедур и бесплатных и можно сделать платно по желанию, питание на троечку..как умудряются из нормальных продуктов сделать такие салаты которые кушать просто невозможно...месят все подряд...персонал очень недоброжелательный..при такой нагрузке наверно нужно увеличить число администраторов чтобы не уставали и не хамили особенно в столовой...а в целом море солнце красота( про номера в 3 корпусе- кафель на полу расколот..лампочки очень тусклые,если учесть что тут лечатся инвалиды и пожилые) Скрыть\\\\n\\\\nХитрый\\\\nЗнаток города 11 уровня\\\\n  31 окт 2022\\\\n... нет.\\\\nВроде бы всё включено, но постоянно есть разные НО! Во всём.\\\\nАнимация от АкваЛоо, это отдельная песня🙈 Аниматор на вечернем шоу просто выгнал ребенка, и нелестно в микрофон отозвался о его родителях... Читать целикомБольшие семейные номера, но уставшие. При этом чисто. Здание по сути стоит на проезжей части, вна территорию спокойно заезжают автомобили, вокруг одна сплошная парковка. По сути, своей территории нет.\\\\nВроде бы всё включено, но постоянно есть разные НО! Во всём.\\\\nАнимация от АкваЛоо, это отдельная песня🙈 Аниматор на вечернем шоу просто выгнал ребенка, и нелестно в микрофон отозвался о его родителях и о воспитании, а все потому что программа была слишком нудная и ребенок устал стоять в одной позе. Короче - это огромный минус. Почему за границей находят подход ко всем детям?\\\\nЯ поняла, что один раз съездить в Акваград можно. Но не более.\\\\nМоре далеко, пляж хорошо оборудован, но наши туристы кидают свои полотенца в 7 утра😁 и они до вечера валяются на шезлонгах. Давненько такого не видела. Дурость полнейшая. И да, там все болеют ротавирусом. Мы не исключение. Скрыть\\\\n\\\\nМихаил А.\\\\nЗнаток города 2 уровня\\\\n  27 окт 2022\\\\n... работал один. Кстати им не пользуемся- ходим пешком, т.к дождаться нереально. Номер хороший, чисто. Белье, постель, подушки -все хорошо. Есть халаты, тапочки, косметический набор( полный комплект), вода.... Читать целикомОтдыхаем в Аквалоо сейчас. Тур бронировали с 24.10.22 по 04.11.22 г. по системе Ультра Все включено с лечением. Хотелось провести отдых на море с бассейном, питанием и немного подлечиться. Выбор пал на Аквалоо. Позвонили,внесли предоплату, по проживанию инфо дали сразу, по лечению рекомендовали на месте\\\\n  \\\\n  \\\\n4 / 5\\\\n11 452 оценки · 4 785 отзывов\\\\n\\\\nDonara G.\\\\nОпубликовано для всех\\\\n\\\\n  31 янв 2023\\\\nОтвратительно 👎👎\\\\nОтзывы\\\\n\\\\nСначала негативные\\\\n\\\\nАнна Жнакина\\\\nЗнаток города 4 уровня\\\\n  20 авг 2022\\\\n... каждый день, но полотенца не меняют, в номере полы моют плохо, нехватка обслуживающего персонала, в день заселения одна девушка убирала целых 2 этажа, не успевала, бедная как загнанная лошадь, даже и претензии... Читать целикомПолотенец не хватает, горки в аквапарке не всегда всё работают, еда хорошая, всегда можно что-то выбрать и наесться, пляж близко, хороший, в санузле убирают каждый день, но полотенца не меняют, в номере полы моют плохо, нехватка обслуживающего персонала, в день заселения одна девушка убирала целых 2 этажа, не успевала, бедная как загнанная лошадь, даже и претензии ей было предъявлять неудобно, отель явно не заботится о своих работниках, что уж говорить о клиентах, мебель в номерах разваливающаяся, стены грязные, нам повезло - сантехника в норме, а а у подруги всё текло. Цена явно не соответствует качеству. Скрыть\\\\n\\\\nЕкатерина Мячева\\\\nЗнаток города 10 уровня\\\\n  17 сен 2022\\\\nХудший отель в моей практике.\\\\nДве звезды за что? Одна - за пляж, он большой, довольно чистый, и море есть море, здесь нет заслуги персонала отеля.\\\\nВторая звезда за аквапарк Лоо. Причем не тот,… Читать целиком\\\\n\\\\nОльга Самойлова\\\\nЗнаток города 5 уровня\\\\n  12 сен 2022\\\\n... конечно, но очень даже интересный и симпатичный.\\\\nДирекции бы посоветовала нанять грамотных управленцев и подтянуть уровень сервиса до мировых стандартов. Читать целикомНе очень вежливый и заинтересованный персонал на ресепшене. Есть ощущение, что гостям там не рады. Первые построенные корпуса нуждаются в реновации. Новые корпуса выглядят хорошо, внутри так же комфортно, чистая и новая мебель. Территория отеля большая и ухоженная. Система \"ультра всё включено\" до 18:00, а потом ультра всё выключено. Это какой-то позор, а не ультра всё включено. Зверские цены в магазине на территории, догоняют Азбуку Вкуса. Питание по принципу шведского стола надоедает на второй день. Надо как-то идти в ногу со временем, ибо это меню устарело ещё лет 50 назад. Невозможно есть одни котлеты постоянно. Гуляет ротавирус. Команда аниматоров понравилась. Живность на территории (кошки и собаки) тоже прелестные. Хороший пляж с шезлогами и зонтиками, хороший аквапарк. Не новый, конечно, но очень даже интересный и симпатичный.\\\\nДирекции бы посоветовала нанять грамотных управленцев и подтянуть уровень сервиса до мировых стандартов. Скрыть\\\\n\\\\nАнна\\\\nЗнаток города 10 уровня\\\\n  22 ноя 2022\\\\nЧистая, ухоженная территория. Повезло с номером во втором корпусе - с видом на море. Уборка ежедневная, но так, слегка. Питание - ну так, не самое страшное, можно выбирать, есть такая… Читать целиком\\\\n\\\\nелена\\\\nЗнаток города 8 уровня\\\\n  21 ноя 2022\\\\n... так вот данному санаторию ставлю твердую 4...отдыхали по социальной путевке в октябре, лечение достойное, много процедур и бесплатных и можно сделать платно по желанию, питание на троечку..как умудряются... Читать целикомвсе познается в сравнении..так вот данному санаторию ставлю твердую 4...отдыхали по социальной путевке в октябре, лечение достойное, много процедур и бесплатных и можно сделать платно по желанию, питание на троечку..как умудряются из нормальных продуктов сделать такие салаты которые кушать просто невозможно...месят все подряд...персонал очень недоброжелательный..при такой нагрузке наверно нужно увеличить число администраторов чтобы не уставали и не хамили особенно в столовой...а в целом море солнце красота( про номера в 3 корпусе- кафель на полу расколот..лампочки очень тусклые,если учесть что тут лечатся инвалиды и пожилые) Скрыть\\\\n\\\\nХитрый\\\\nЗнаток города 11 уровня\\\\n  31 окт 2022\\\\n... нет.\\\\nВроде бы всё включено, но постоянно есть разные НО! Во всём.\\\\nАнимация от АкваЛоо, это отдельная песня🙈 Аниматор на вечернем шоу просто выгнал ребенка, и нелестно в микрофон отозвался о его родителях... Читать целикомБольшие семейные номера, но уставшие. При этом чисто. Здание по сути стоит на проезжей части, вна территорию спокойно заезжают автомобили, вокруг одна сплошная парковка. По сути, своей территории нет.\\\\nВроде бы всё включено, но постоянно есть разные НО! Во всём.\\\\nАнимация от АкваЛоо, это отдельная песня🙈 Аниматор на вечернем шоу просто выгнал ребенка, и нелестно в микрофон отозвался о его родителях и о воспитании, а все потому что программа была слишком нудная и ребенок устал стоять в одной позе. Короче - это огромный минус. Почему за границей находят подход ко всем детям?\\\\nЯ поняла, что один раз съездить в Акваград можно. Но не более.\\\\nМоре далеко, пляж хорошо оборудован, но наши туристы кидают свои полотенца в 7 утра😁 и они до вечера валяются на шезлонгах. Давненько такого не видела. Дурость полнейшая. И да, там все болеют ротавирусом. Мы не исключение. Скрыть\\\\n\\\\nМихаил А.\\\\nЗнаток города 2 уровня\\\\n  27 окт 2022\\\\n... работал один. Кстати им не пользуемся- ходим пешком, т.к дождаться нереально. Номер хороший, чисто. Белье, постель, подушки -все хорошо. Есть халаты, тапочки, косметический набор( полный комплект), вода.... Читать целикомОтдыхаем в Аквалоо сейчас. Тур бронировали с 24.10.22 по 04.11.22 г. по системе Ультра Все включено с лечением. Хотелось провести отдых на море с бассейном, питанием и немного подлечиться. Выбор пал на Аквалоо. Позвонили,внесли предоплату, по проживанию инфо дали сразу, по лечению рекомендовали на месте в Медцентре (первый звоночек- не насторожило). Заказали номер комфорт. По приезду на КПП уточнили: Акваград или Аквалоо. Конечно Лоо- направили в корпус 1. С сумками пошли. Территория большая, много спусков и подъёмов. На ресепшене никого не было , ждали минут 15 ( ну ладно, отошли люди-бывает). Вокруг пожилые люди, много с детьми ( с нарушениями ОДА). Дождались девушку , вернулась на рабочее место вместе с постояльцем( бабушка преклонных лет). И началось…. Такого хамского отношения к пожилому человеку мы еще не видели (а фраза увольте меня…. убила)- опять звоночек…. Когда очередь дошла да нас, выяснилось , что нам не сюда, а в Акваград( около КПП, мы прошли) Ну ладно думаем, сами виноваты… С сумками пошли назад. В Акваграде встретили, предложили напитки, быстро оформили. Удивились, что с лечением( 3-й звоночек).\\\\nНомер дали на 5 этаже, из 2-х лифтов, работал один. Кстати им не пользуемся- ходим пешком, т.к дождаться нереально. Номер хороший, чисто. Белье, постель, подушки -все хорошо. Есть халаты, тапочки, косметический набор( полный комплект), вода. По номеру претензий нет.\\\\nВсе наши приключения- «в медцентре» Его, как такого,нет!!!!\\\\nНикто не смог толком дать инфо, где он находиться, отправили в кабинет 106- вам там все скажут. Сходили, работают с 8 до 15-30. На следующее утро пошли. Ад. Очередь 20 человек, отстояли, попали, заполнили карту, отправили в кабинет 7 корпус 5. Пришли. Очередь 10 человек, Отстояли, заполнили время посещения процедур. По путевке необходимы былы дополнительные платные процедуры, это кабинет 101-касса. Пошли опять в корпус 1. Очередь человек 15. Завис компьютер. Записывают кто за кем на бумажку… Отстояли еще часа 2. Опять не насторожило… Оплатили, внесли доп. в график, между основными процедурами. Все устроило. Первая начиналась на следующий день. Ко времени подошли . И тут выяснилось, что все процедуры отпускаются в порядке « живой очереди» Вы можете себе представить, в 8-00 душ , ты приходишь , а там толпа народу, человек 10 в очереди и все к 8-00. Ванны, электрофорез, грязелечение…Много пожилых людей, матери с больными детьми, все ругаются, скандалят, кто за кем. И все они по путевкам ФСС( т.е. бесплатно). Получается, что ты заплатил деньги, пришел ко времени, получить процедуру, еще с боем должен выдержать весь негатив, отстоять у каждого кабинета, чтоб « подлечиться». Душ Шарко стоял по времени в 11-50, подошли, в очереди сидели бабульки, кто по записи на 9-00, и еще даже они не прошли…. Вернулись в кабинет 7 к медрегистратору. Те развели руками, извините мол, да, у нас так, все в порядке очереди. Ау… почему об этом ты узнаешь, уже после оплаты? Если вы заявляете, что у вас Медцентр, так и пишите, что услуги предоставляются, в первую очередь по ФСС, а потом вам- кто заплатил. 2 дня нервов, спорить бесполезно, начальства нет, никто ни за что не отвечает, видимо это система здесь, а руководство допускает. Сделали возврат всех платных услуг, и то со 2-го раза. Пришлось бегать два дня, компьютер опять завис.\\\\nИтог:\\\\n0) Клиентоориентированность- ноль.\\\\n1) Отдыхать можно, но без лечения!!!!!!!\\\\n2) Питание по системе все включено( больше похоже на комплексное). Выбор не большой, но готовят вкусно. Ресторан Янтарный, все сотрудники очень стараются.\\\\n3)Аквапарк крытый: работает детское отделение, пару горок и бассейн с морской водой, основной бассейн слит, в раздевалках грязно, сыро. У основного бассейна ведутся ремонтные работы( пыль, мусор, грязь). С 16-18 много , очень много, посетителей по ФСС. Лучше в это время не ходить.\\\\n4) Пляж: есть, не сезон, не купались. Ходить по переходу через ЖД.\\\\n5) «Медцентр»: АД!!!Кроме массажа по времени, все остальное- огромные очереди с пожилыми людьми и больными детьми. Кабинеты- оборудованы по системе « времен СССР».\\\\n6) Проживающие по ФСС , так же недовольны этим бардаком. ( Услышали, пока стояли в очередях).\\\\nОтдыхали в разных санаториях и пансионатах, в России и за рубежом, всегда терпимо относились к недочетам, но такого УЖАСА мы еще не встречали. Выводы делайте сами…\\\\nФото:\\\\n1- Ингалляторий\\\\n2- Медрегистратор\\\\n3- Электрофорез\\\\n4- Очередь на Ванны( все на 8-00) Скрыть\\\\n\\\\nЕлена Г.\\\\nЗнаток города 4 уровня\\\\n  22 янв 2023\\\\n... на получение процедур и даже в столовой за миской каши и супа\\\\nКоличество курортников явно выше возможностей санатория\\\\nПерсоналу можно только посочувствовать: нагрузка колоссальная\\\\nДа, путевка бесплатная... Читать целикомАттракцион невиданной щедрости соцпутевка в санаторий на море в январе\\\\nПосле вечно хмурой и промозглой Москвы ослепительное солнце и широкий морской берег в шаговой доступности показались волшебной сказкой\\\\nВсе остальное не дотягивает даже до самого среднего уровня\\\\nНомер в первом корпусе ободранный и жалкий с холодильником -рухлядью в центре комнаты, с ветхой сантехникой\\\\nДа, большая территория, но организована нерационально и местами сильно запущена\\\\nСтоловая - отдельное унижение для пожилых отдыхающих\\\\nОгромный неуютный зал, плотно заставлен столиками. Гул и шум, как в цеху предприятия. Дополнительный грохот от тележек шустрых официантов. Ножей и чайных ложек нет, пластиковая посуда для горячих напитков\\\\nРацион сильно сдвинут в сторону углеводов и большого аппетита не вызывает\\\\nВремя для приема пищи строго ограничено - 40 минут\\\\nПосле посещения столовой с гордым именем «Парадиз» одежда насквозь пропитывается запахом кухни\\\\nЛечение : ванны, грязи и массаж ультракороткой продолжительности - 10 минут\\\\nХотите больше - платите из своего тощего кармана\\\\nБювет доступен только до середины дня, вода привозная из Горячего ключа\\\\nИ самое неприятное : очереди на заселение, на получение процедур и даже в столовой за миской каши и супа\\\\nКоличество курортников явно выше возможностей санатория\\\\nПерсоналу можно только посочувствовать: нагрузка колоссальная\\\\nДа, путевка бесплатная\\\\nНо большинство людей всю жизнь работали на государство и платили налоги и не по своей вине не имеют накоплений на достойный отдых Скрыть\\\\n\\\\nОльга\\\\nЗнаток города 6 уровня\\\\n  5 янв 2023\\\\n... Игрушки и лазалки сильно изношены. К столовой претензий нет: еда, сервис, ассортимент блюд, чистота заслуга опытного управляющего, ему спасибо. Детская площадка бестолковая, детей на ней нет и тоже все... Читать целикомОтель на свою тройку. И то с минусом.\\\\nЕсть вещи, которые перекрывают все позитивные моменты. В нашем случае это был номер. Бронировали онлайн. Прислали красивое фото, а по факту малюсенький ушатаный номерок, в котором дверь балкона раздолбана и не закрывается толком, ремонта не было лет 20, кусками оторваны плинтуса и наличники, нет полочки в душе, да и сам душ не вызывает радости. Логистика территории не продумана, ходить кругами или козьими тропами, что с ребенком тяжеловато. Тротуаров нет, машины и люди делят узкую дорогу. Выход к морю тяжелый, как инвалиды его преодолевают-не понятно. Для колясок вообще нет спусков и пандусов. Аквапарк ушатан, краска и плитка отваливаются, фены 80х годов, раздевалка тесная и не комфортная. Детские комнаты тоже на троечку. Игрушки и лазалки сильно изношены. К столовой претензий нет: еда, сервис, ассортимент блюд, чистота заслуга опытного управляющего, ему спасибо. Детская площадка бестолковая, детей на ней нет и тоже все ушатано. Из плюсов:много зелени, еда, анимация и развлечения для детей и взрослых, ценник. Все остальное требует ремонта и модернизации. Приехала я бы сюда еще раз: скорей всего нет либо в более комфортный номер, если такие тут есть. Скрыть\\\\n\\\\nОльга Козырева\\\\nЗнаток города 3 уровня\\\\n  9 ноя 2022\\\\nОтдыхала в санатории по соцпутевке с 21.10.22 по 6.11 22 и решила оствить и свой коментарий. Единственный плюс санатория это природа, море, воздух, те то что не зависит от руководства и персонала. Первое что просто убило это хамское отношение персонала к отдыхающим, начиная от рецепшена, и заканчивая персоналом на процедурах. Везде грязь, полная антисанитария, номера убирают очень плохо, в лучшем случае протрут середину раз в 2 дня( как заселилась были крошки под столом, так и уехала, они остались не тронутыми). Полотенца поменяли один раз за 18дн., и то 3 дня ходила ха горничной. В \"ресторане\", пишу в кавычках, потому как иначе как забегаловкой не назовешь. Первые блюда стоят в центре зала, и чтобы принести к своему столу,нужно пройти весь зал с гоячей тарелкой, поэтому эти несчастные инвалиды и пенсионеры несут трясущимися руками,разливают. Поэтому идешь следом с молитвой, тлько бы не упасть, плитка скользкая, ни каких покрытий, а если убощица вытирает, то жирной тряпкой развезет еще хуже. К персоналу зачем то обратиться,себе дороже. Хамство, грубость так и льются, все на повышеных тонах. Бассейн- это вообще не что! Ни какого душа, перед посещением, ни каких шапочек, народ там не плавает, а стоит стоя. Полы скользкие, ни кто не вытирает. И практически все социальщики в одно время, с 16 до 18, есть еще час утром, но тогда и все остальные процедуры, ни к о время не согласовыват с отдыхающими. Ответ один- не нравится не пользуйтесь, или еще того хуже уезжайте. Развлечений бесплатных нет вообще, приезжают какие то артисты, но за деньги. Ни библиотеки, ни кино какого то нет\\\\nТелевизоры в номерах есть, но они либо очень плохо показывают, либо совсем ни как. Писать еще можно долго и много, но вывод один: в даный санаторий больше не поеду ни за что, и ни кому не посоветую!'],\n",
       "      dtype=object)"
      ]
     },
     "execution_count": 52,
     "metadata": {},
     "output_type": "execute_result"
    }
   ],
   "source": [
    "df.query('review_length > 10000')['text'].values"
   ]
  },
  {
   "cell_type": "code",
   "execution_count": 54,
   "metadata": {},
   "outputs": [
    {
     "data": {
      "text/plain": [
       "array(['Круто', 'Круто', 'кайф\\\\n', 'Все круто', 'Отлично ', 'Отлично!',\n",
       "       'Прилично ', 'Лучшие!', 'Клас!', 'Класс', 'Хорошо ', 'Удобно',\n",
       "       'Супер', 'Не плохо ', 'Нормально', 'Спасибо!', 'Отлично',\n",
       "       'Спасибо', 'Норм', 'Стандарт.', 'Чисто!', 'Все отл', 'Удобно',\n",
       "       'Хорошо', '10 из 10', 'Ок', 'Вкусно', 'Супер', 'Норм', 'Вкусно',\n",
       "       'Красавцы', 'Не вкусно', 'Все норм.', 'Профи!', 'Отлично.',\n",
       "       'Круть', 'Чисто', 'Отлично.', 'Хорошо ', 'Бомба', 'Всё супер',\n",
       "       'топ топ', 'Норм', 'Вполне!', 'Всё чëтко', 'Вкусно', 'Класс! '],\n",
       "      dtype=object)"
      ]
     },
     "execution_count": 54,
     "metadata": {},
     "output_type": "execute_result"
    }
   ],
   "source": [
    "df.query('review_length < 10')['text'].values"
   ]
  },
  {
   "cell_type": "markdown",
   "metadata": {},
   "source": [
    "Из этого можно сделать, что слишком короткие и слишком длинные отзывы бессмыслены. Считаем их за выброс и удаляем"
   ]
  },
  {
   "cell_type": "code",
   "execution_count": 55,
   "metadata": {},
   "outputs": [
    {
     "data": {
      "text/html": [
       "<div>\n",
       "<style scoped>\n",
       "    .dataframe tbody tr th:only-of-type {\n",
       "        vertical-align: middle;\n",
       "    }\n",
       "\n",
       "    .dataframe tbody tr th {\n",
       "        vertical-align: top;\n",
       "    }\n",
       "\n",
       "    .dataframe thead th {\n",
       "        text-align: right;\n",
       "    }\n",
       "</style>\n",
       "<table border=\"1\" class=\"dataframe\">\n",
       "  <thead>\n",
       "    <tr style=\"text-align: right;\">\n",
       "      <th></th>\n",
       "      <th>rating</th>\n",
       "      <th>review_length</th>\n",
       "    </tr>\n",
       "  </thead>\n",
       "  <tbody>\n",
       "    <tr>\n",
       "      <th>0</th>\n",
       "      <td>3</td>\n",
       "      <td>537</td>\n",
       "    </tr>\n",
       "    <tr>\n",
       "      <th>1</th>\n",
       "      <td>5</td>\n",
       "      <td>158</td>\n",
       "    </tr>\n",
       "    <tr>\n",
       "      <th>2</th>\n",
       "      <td>1</td>\n",
       "      <td>485</td>\n",
       "    </tr>\n",
       "    <tr>\n",
       "      <th>3</th>\n",
       "      <td>4</td>\n",
       "      <td>142</td>\n",
       "    </tr>\n",
       "    <tr>\n",
       "      <th>4</th>\n",
       "      <td>5</td>\n",
       "      <td>373</td>\n",
       "    </tr>\n",
       "    <tr>\n",
       "      <th>...</th>\n",
       "      <td>...</td>\n",
       "      <td>...</td>\n",
       "    </tr>\n",
       "    <tr>\n",
       "      <th>499025</th>\n",
       "      <td>5</td>\n",
       "      <td>76</td>\n",
       "    </tr>\n",
       "    <tr>\n",
       "      <th>499026</th>\n",
       "      <td>4</td>\n",
       "      <td>295</td>\n",
       "    </tr>\n",
       "    <tr>\n",
       "      <th>499027</th>\n",
       "      <td>4</td>\n",
       "      <td>325</td>\n",
       "    </tr>\n",
       "    <tr>\n",
       "      <th>499028</th>\n",
       "      <td>5</td>\n",
       "      <td>502</td>\n",
       "    </tr>\n",
       "    <tr>\n",
       "      <th>499029</th>\n",
       "      <td>5</td>\n",
       "      <td>250</td>\n",
       "    </tr>\n",
       "  </tbody>\n",
       "</table>\n",
       "<p>499030 rows × 2 columns</p>\n",
       "</div>"
      ],
      "text/plain": [
       "        rating  review_length\n",
       "0            3            537\n",
       "1            5            158\n",
       "2            1            485\n",
       "3            4            142\n",
       "4            5            373\n",
       "...        ...            ...\n",
       "499025       5             76\n",
       "499026       4            295\n",
       "499027       4            325\n",
       "499028       5            502\n",
       "499029       5            250\n",
       "\n",
       "[499030 rows x 2 columns]"
      ]
     },
     "execution_count": 55,
     "metadata": {},
     "output_type": "execute_result"
    }
   ],
   "source": [
    "df_cor = df[['rating', 'review_length']]\n",
    "df_cor"
   ]
  },
  {
   "cell_type": "code",
   "execution_count": 57,
   "metadata": {},
   "outputs": [
    {
     "data": {
      "image/png": "[encoded data removed]",
      "text/plain": [
       "<Figure size 640x480 with 1 Axes>"
      ]
     },
     "metadata": {},
     "output_type": "display_data"
    }
   ],
   "source": [
    "sns.scatterplot(x ='rating', y = 'review_length', data=df_cor)\n",
    "plt.show()"
   ]
  },
  {
   "cell_type": "markdown",
   "metadata": {},
   "source": [
    "Построим корреляционную матрицу"
   ]
  },
  {
   "cell_type": "code",
   "execution_count": 58,
   "metadata": {},
   "outputs": [
    {
     "data": {
      "image/png": "[encoded data removed]",
      "text/plain": [
       "<Figure size 640x480 with 2 Axes>"
      ]
     },
     "metadata": {},
     "output_type": "display_data"
    }
   ],
   "source": [
    "corr_matrix = df_cor.corr()\n",
    "\n",
    "sns.heatmap(corr_matrix, annot=True)\n",
    "plt.show()"
   ]
  },
  {
   "cell_type": "markdown",
   "metadata": {},
   "source": [
    "Значение корреляции -0.28 указывает на слабую обратную (отрицательную) корреляцию между двумя переменными "
   ]
  },
  {
   "cell_type": "code",
   "execution_count": 59,
   "metadata": {},
   "outputs": [],
   "source": [
    "# Сохраним наш датафрейм в tsv файл для дальнейшей работы\n",
    "df.to_csv('geo-reviews-dataset-2023.tsv', sep='\\t', index=False)"
   ]
  },
  {
   "cell_type": "markdown",
   "metadata": {},
   "source": [
    "# Расчет частотности слов"
   ]
  },
  {
   "cell_type": "code",
   "execution_count": 60,
   "metadata": {},
   "outputs": [],
   "source": [
    "# Соберем все тексты отзывов в одну строку\n",
    "words_list_list = df['text'].to_list()\n",
    "words_str = ' '.join(str(string) for string in words_list_list)"
   ]
  },
  {
   "cell_type": "markdown",
   "metadata": {},
   "source": [
    "### Удалим из строки все спец.символы"
   ]
  },
  {
   "cell_type": "code",
   "execution_count": 63,
   "metadata": {},
   "outputs": [],
   "source": [
    "def remove_chars(text, chars):\n",
    "    return ''.join(filter(lambda x: x not in chars, text))\n",
    "\n",
    "spec_chars = string.punctuation + '\\n\\xa0«»\\t—…n'\n",
    "\n",
    "words_list = words_str.split()\n",
    "cleaned_words = []\n",
    "for word in words_list:\n",
    "    cleaned_word = remove_chars(word, spec_chars)\n",
    "    cleaned_word = remove_chars(cleaned_word, string.digits)\n",
    "    cleaned_words.append(cleaned_word)\n",
    "\n",
    "cleaned_text = ' '.join(cleaned_words).lower().strip()"
   ]
  },
  {
   "cell_type": "code",
   "execution_count": 64,
   "metadata": {},
   "outputs": [
    {
     "name": "stderr",
     "output_type": "stream",
     "text": [
      "[nltk_data] Downloading package punkt_tab to\n",
      "[nltk_data]     C:\\Users\\Kirill\\AppData\\Roaming\\nltk_data...\n",
      "[nltk_data]   Unzipping tokenizers\\punkt_tab.zip.\n"
     ]
    }
   ],
   "source": [
    "# Токенизируем текст\n",
    "nltk.download('punkt_tab')\n",
    "text_tokens = word_tokenize(cleaned_text)"
   ]
  },
  {
   "cell_type": "markdown",
   "metadata": {},
   "source": [
    "## Посмотрим статистику по неочищенным словам"
   ]
  },
  {
   "cell_type": "code",
   "execution_count": null,
   "metadata": {},
   "outputs": [],
   "source": [
    "text = nltk.Text(text_tokens)\n",
    "fdist = FreqDist(cleaned_text)"
   ]
  },
  {
   "cell_type": "code",
   "execution_count": null,
   "metadata": {},
   "outputs": [],
   "source": [
    "print('Статистика по неочищенным словам\\n',\n",
    "      f'Всего слов: {fdist.N()}\\n',\n",
    "      )\n",
    "print()\n",
    "print(f'Уникальных слов: {fdist.B()}\\n')\n",
    "print('Топ-10 слов по частоте: ')\n",
    "most_common_words = fdist.most_common(10)\n",
    "for word in most_common_words:\n",
    "    print(f'{word[0]}:  {word[1]}')"
   ]
  }
 ],
 "metadata": {
  "kernelspec": {
   "display_name": "Python 3",
   "language": "python",
   "name": "python3"
  },
  "language_info": {
   "codemirror_mode": {
    "name": "ipython",
    "version": 3
   },
   "file_extension": ".py",
   "mimetype": "text/x-python",
   "name": "python",
   "nbconvert_exporter": "python",
   "pygments_lexer": "ipython3",
   "version": "3.11.2"
  }
 },
 "nbformat": 4,
 "nbformat_minor": 2
}
