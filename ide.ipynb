{
 "cells": [
  {
   "cell_type": "markdown",
   "metadata": {},
   "source": [
    "# Предварительная обработка данных"
   ]
  },
  {
   "cell_type": "markdown",
   "metadata": {},
   "source": [
    "## Считывание данных"
   ]
  },
  {
   "cell_type": "code",
   "execution_count": 3,
   "metadata": {},
   "outputs": [],
   "source": [
    "import pandas as pd\n",
    "\n",
    "def read_tskv(file_path):\n",
    "    # Чтение данных из файла TSKV\n",
    "    data = pd.read_csv(file_path, sep='\\t', encoding='utf-8')\n",
    "    return data"
   ]
  },
  {
   "cell_type": "code",
   "execution_count": 4,
   "metadata": {},
   "outputs": [],
   "source": [
    "dataset = read_tskv('datasets/geo-reviews-dataset-2023.tskv')"
   ]
  },
  {
   "cell_type": "code",
   "execution_count": 6,
   "metadata": {},
   "outputs": [
    {
     "data": {
      "text/html": [
       "<div>\n",
       "<style scoped>\n",
       "    .dataframe tbody tr th:only-of-type {\n",
       "        vertical-align: middle;\n",
       "    }\n",
       "\n",
       "    .dataframe tbody tr th {\n",
       "        vertical-align: top;\n",
       "    }\n",
       "\n",
       "    .dataframe thead th {\n",
       "        text-align: right;\n",
       "    }\n",
       "</style>\n",
       "<table border=\"1\" class=\"dataframe\">\n",
       "  <thead>\n",
       "    <tr style=\"text-align: right;\">\n",
       "      <th></th>\n",
       "      <th>address=Екатеринбург, ул. Московская / ул. Волгоградская / ул. Печатников</th>\n",
       "      <th>name_ru=Московский квартал</th>\n",
       "      <th>rating=3.</th>\n",
       "      <th>rubrics=Жилой комплекс</th>\n",
       "      <th>text=Московский квартал 2.\\nШумно : летом по ночам дикие гонки. Грязно : кругом стройки, невозможно открыть окна (16 этаж! ), вечно по району летает мусор. Детские площадки убогие, на большой площади однотипные конструкции. Очень дорогая коммуналка. Часто срабатывает пожарная сигнализация. Жильцы уже не реагируют. В это время, обычно около часа, не работают лифты. Из плюсов - отличная планировка квартир ( Московская 194 ), на мой взгляд. Ремонт от застройщика на 3-. Окна вообще жуть - вместо вентиляции. По соотношению цена/качество - 3.</th>\n",
       "    </tr>\n",
       "  </thead>\n",
       "  <tbody>\n",
       "    <tr>\n",
       "      <th>0</th>\n",
       "      <td>address=Московская область, Электросталь, прос...</td>\n",
       "      <td>name_ru=Продукты Ермолино</td>\n",
       "      <td>rating=5.</td>\n",
       "      <td>rubrics=Магазин продуктов;Продукты глубокой за...</td>\n",
       "      <td>text=Замечательная сеть магазинов в общем, хор...</td>\n",
       "    </tr>\n",
       "    <tr>\n",
       "      <th>1</th>\n",
       "      <td>address=Краснодар, Прикубанский внутригородско...</td>\n",
       "      <td>name_ru=LimeFit</td>\n",
       "      <td>rating=1.</td>\n",
       "      <td>rubrics=Фитнес-клуб</td>\n",
       "      <td>text=Не знаю смутят ли кого-то данные правила,...</td>\n",
       "    </tr>\n",
       "    <tr>\n",
       "      <th>2</th>\n",
       "      <td>address=Санкт-Петербург, проспект Энгельса, 11...</td>\n",
       "      <td>name_ru=Snow-Express</td>\n",
       "      <td>rating=4.</td>\n",
       "      <td>rubrics=Пункт проката;Прокат велосипедов;Сапсё...</td>\n",
       "      <td>text=Хорошие условия аренды. \\nДружелюбный пер...</td>\n",
       "    </tr>\n",
       "    <tr>\n",
       "      <th>3</th>\n",
       "      <td>address=Тверь, Волоколамский проспект, 39</td>\n",
       "      <td>name_ru=Студия Beauty Brow</td>\n",
       "      <td>rating=5.</td>\n",
       "      <td>rubrics=Салон красоты;Визажисты, стилисты;Сало...</td>\n",
       "      <td>text=Топ мастер Ангелина топ во всех смыслах )...</td>\n",
       "    </tr>\n",
       "    <tr>\n",
       "      <th>4</th>\n",
       "      <td>address=Иркутская область, Черемхово, Первомай...</td>\n",
       "      <td>name_ru=Tele2</td>\n",
       "      <td>rating=5.</td>\n",
       "      <td>rubrics=Оператор сотовой связи;Интернет-провайдер</td>\n",
       "      <td>text=Приятное общение, все доступно объяснили,...</td>\n",
       "    </tr>\n",
       "  </tbody>\n",
       "</table>\n",
       "</div>"
      ],
      "text/plain": [
       "  address=Екатеринбург, ул. Московская / ул. Волгоградская / ул. Печатников  \\\n",
       "0  address=Московская область, Электросталь, прос...                          \n",
       "1  address=Краснодар, Прикубанский внутригородско...                          \n",
       "2  address=Санкт-Петербург, проспект Энгельса, 11...                          \n",
       "3          address=Тверь, Волоколамский проспект, 39                          \n",
       "4  address=Иркутская область, Черемхово, Первомай...                          \n",
       "\n",
       "   name_ru=Московский квартал  rating=3.  \\\n",
       "0   name_ru=Продукты Ермолино  rating=5.   \n",
       "1             name_ru=LimeFit  rating=1.   \n",
       "2        name_ru=Snow-Express  rating=4.   \n",
       "3  name_ru=Студия Beauty Brow  rating=5.   \n",
       "4               name_ru=Tele2  rating=5.   \n",
       "\n",
       "                              rubrics=Жилой комплекс  \\\n",
       "0  rubrics=Магазин продуктов;Продукты глубокой за...   \n",
       "1                                rubrics=Фитнес-клуб   \n",
       "2  rubrics=Пункт проката;Прокат велосипедов;Сапсё...   \n",
       "3  rubrics=Салон красоты;Визажисты, стилисты;Сало...   \n",
       "4  rubrics=Оператор сотовой связи;Интернет-провайдер   \n",
       "\n",
       "  text=Московский квартал 2.\\nШумно : летом по ночам дикие гонки. Грязно : кругом стройки, невозможно открыть окна (16 этаж! ), вечно по району летает мусор. Детские площадки убогие, на большой площади однотипные конструкции. Очень дорогая коммуналка. Часто срабатывает пожарная сигнализация. Жильцы уже не реагируют. В это время, обычно около часа, не работают лифты. Из плюсов - отличная планировка квартир ( Московская 194 ), на мой взгляд. Ремонт от застройщика на 3-. Окна вообще жуть - вместо вентиляции. По соотношению цена/качество - 3.  \n",
       "0  text=Замечательная сеть магазинов в общем, хор...                                                                                                                                                                                                                                                                                                                                                                                                                                                                                                              \n",
       "1  text=Не знаю смутят ли кого-то данные правила,...                                                                                                                                                                                                                                                                                                                                                                                                                                                                                                              \n",
       "2  text=Хорошие условия аренды. \\nДружелюбный пер...                                                                                                                                                                                                                                                                                                                                                                                                                                                                                                              \n",
       "3  text=Топ мастер Ангелина топ во всех смыслах )...                                                                                                                                                                                                                                                                                                                                                                                                                                                                                                              \n",
       "4  text=Приятное общение, все доступно объяснили,...                                                                                                                                                                                                                                                                                                                                                                                                                                                                                                              "
      ]
     },
     "execution_count": 6,
     "metadata": {},
     "output_type": "execute_result"
    }
   ],
   "source": [
    "dataset.head(5)"
   ]
  }
 ],
 "metadata": {
  "kernelspec": {
   "display_name": "Python 3",
   "language": "python",
   "name": "python3"
  },
  "language_info": {
   "codemirror_mode": {
    "name": "ipython",
    "version": 3
   },
   "file_extension": ".py",
   "mimetype": "text/x-python",
   "name": "python",
   "nbconvert_exporter": "python",
   "pygments_lexer": "ipython3",
   "version": "3.11.2"
  }
 },
 "nbformat": 4,
 "nbformat_minor": 2
}
